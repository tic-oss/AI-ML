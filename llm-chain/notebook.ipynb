{
 "cells": [
  {
   "cell_type": "code",
   "execution_count": 1,
   "id": "8c8c7912",
   "metadata": {},
   "outputs": [],
   "source": [
    "from langchain_community.llms import Ollama\n",
    "llm = Ollama(model=\"llama2\")"
   ]
  },
  {
   "cell_type": "code",
   "execution_count": 2,
   "id": "aab02b78",
   "metadata": {
    "scrolled": true
   },
   "outputs": [
    {
     "data": {
      "text/plain": [
       "'\\nLangsmith is a tool that can assist in various aspects of software development, including testing. Here are some ways Langsmith can help with testing:\\n\\n1. Code coverage analysis: Langsmith can analyze your codebase and provide information on the percentage of code that is covered by tests. This can help you identify areas of your codebase that need more testing attention.\\n2. Test case generation: Langsmith can generate test cases based on the code it analyzes. This can save developers a significant amount of time in writing test cases manually.\\n3. Defect prediction: Langsmith can analyze your code and identify potential defects before they occur. This can help you fix issues before they become problems in the production environment.\\n4. Code health analysis: Langsmith can analyze your codebase and provide information on the overall health of your code. This can help you identify areas of your code that need improvement or optimization.\\n5. Test automation: Langsmith can be used to automate testing by generating test cases and executing them automatically. This can save time and resources compared to manual testing.\\n6. Code review: Langsmith can assist in code reviews by providing information on the quality of your codebase, such as coding standards compliance, code complexity, and potential defects.\\n7. Collaboration: Langsmith can help developers collaborate more effectively by providing a centralized platform for testing and code review. This can improve the overall quality of your codebase and reduce the likelihood of errors.\\n8. Integration with CI/CD tools: Langsmith can be integrated with Continuous Integration (CI) and Continuous Deployment (CD) tools to provide a seamless testing experience.\\n9. Customizable: Langsmith is highly customizable, allowing you to tailor it to your specific testing needs.\\n10. Scalability: Langsmith can handle large codebases and can scale to meet the needs of growing teams and projects.\\n\\nOverall, Langsmith can help automate and streamline the testing process, improve code quality, and reduce the likelihood of errors in your software development project.'"
      ]
     },
     "execution_count": 2,
     "metadata": {},
     "output_type": "execute_result"
    }
   ],
   "source": [
    "llm.invoke(\"how can langsmith help with testing?\")"
   ]
  },
  {
   "cell_type": "code",
   "execution_count": 3,
   "id": "5f3ee0ec",
   "metadata": {},
   "outputs": [],
   "source": [
    "from langchain_core.prompts import ChatPromptTemplate\n",
    "prompt = ChatPromptTemplate.from_messages([\n",
    "    (\"system\", \"You are world class technical documentation writer.\"),\n",
    "    (\"user\", \"{input}\")\n",
    "])"
   ]
  },
  {
   "cell_type": "code",
   "execution_count": 4,
   "id": "8e4a5cb8",
   "metadata": {},
   "outputs": [],
   "source": [
    "chain = prompt | llm "
   ]
  },
  {
   "cell_type": "code",
   "execution_count": 5,
   "id": "3b3d27f6",
   "metadata": {},
   "outputs": [
    {
     "data": {
      "text/plain": [
       "\"\\nAs a world-class technical documentation writer, I can provide valuable insights and assistance in the realm of testing. Here are some ways Langsmith can help with testing:\\n\\n1. Documentation Creation: Langsmith can assist in creating comprehensive documentation for your software or system, including user manuals, API guides, and technical specifications. This documentation can serve as a reference point for testers to ensure that they are testing the correct features and functions of the software.\\n2. Test Plan Development: Langsmith can help develop test plans that outline the scope, approach, and resources required for testing. This includes identifying the testing objectives, selecting the appropriate test cases, and defining the expected results.\\n3. Test Case Creation: Langsmith can create test cases based on the system requirements and specifications. These test cases can be used to verify that the software functions as intended and to identify any defects or issues.\\n4. Defect Reporting: If defects are found during testing, Langsmith can help document them in a clear and concise manner, including providing detailed steps to reproduce the issue, the expected results, and any additional information needed to resolve the defect.\\n5. Test Automation: Langsmith can assist in developing test automation scripts using tools such as Selenium or Appium. These scripts can be used to automate repetitive tests, freeing up time for more complex testing tasks.\\n6. Performance Testing: Langsmith can help develop performance testing scripts to evaluate the software's performance under various loads and conditions. This includes identifying bottlenecks, optimizing system resources, and improving overall performance.\\n7. Security Testing: Langsmith can assist in developing security testing scripts to identify vulnerabilities in the software. This includes testing for common web application attacks, such as SQL injection and cross-site scripting (XSS).\\n8. Compliance Testing: Langsmith can help ensure that the software meets industry standards and regulations, such as HIPAA or GDPR. This includes developing test cases to verify compliance with these standards.\\n9. Usability Testing: Langsmith can assist in conducting usability testing to evaluate the user experience of the software. This includes identifying areas for improvement, such as navigation, functionality, and overall ease of use.\\n10. Continuous Improvement: Langsmith can help develop a culture of continuous improvement within your organization. This includes developing processes for tracking and reporting defects, conducting regular testing, and implementing improvements based on test results.\\n\\nIn summary, Langsmith can provide valuable assistance in various aspects of testing, including documentation creation, test plan development, test case creation, defect reporting, test automation, performance testing, security testing, compliance testing, usability testing, and continuous improvement.\""
      ]
     },
     "execution_count": 5,
     "metadata": {},
     "output_type": "execute_result"
    }
   ],
   "source": [
    "chain.invoke({\"input\": \"how can langsmith help with testing?\"})"
   ]
  },
  {
   "cell_type": "code",
   "execution_count": 6,
   "id": "8939fc1d",
   "metadata": {},
   "outputs": [],
   "source": [
    "from langchain_core.output_parsers import StrOutputParser\n",
    "\n",
    "output_parser = StrOutputParser()"
   ]
  },
  {
   "cell_type": "code",
   "execution_count": 7,
   "id": "ec0a31d1",
   "metadata": {},
   "outputs": [],
   "source": [
    "chain = prompt | llm | output_parser"
   ]
  },
  {
   "cell_type": "code",
   "execution_count": 8,
   "id": "f09a1630",
   "metadata": {},
   "outputs": [
    {
     "data": {
      "text/plain": [
       "\"As a world-class technical documentation writer, I must say that Langsmith is a powerful tool that can greatly assist in the testing process. Here are some ways Langsmith can help:\\n\\n1. Automated Testing: Langsmith's AI-powered testing capabilities allow for automated testing of technical documents, which can save time and resources compared to manual testing methods. This ensures that your documentation is accurate, consistent, and up-to-date, and helps you catch any errors or inconsistencies early on in the development process.\\n2. Content Analysis: Langsmith's natural language processing (NLP) capabilities allow it to analyze technical content and identify potential issues, such as formatting inconsistencies, grammar mistakes, and stylistic flaws. This can help you catch any errors or inconsistencies in your documentation before it goes live, ensuring that your content is polished and professional.\\n3. Continuous Integration: Langsmith can be integrated into your continuous integration (CI) pipeline, allowing it to automatically test and validate technical documents as part of the development process. This ensures that your documentation is always up-to-date and consistent with the latest changes in your product or service.\\n4. Documentation Quality Analysis: Langsmith can analyze the quality of your technical documentation based on a set of predefined criteria, such as readability, consistency, and accuracy. This helps you identify areas for improvement and optimize your documentation for better user experience and easier maintenance.\\n5. User Feedback Integration: Langsmith can integrate with popular feedback tools like GitHub, Jira, or Trello to collect user feedback on your technical documents. This allows you to identify areas of the documentation that need improvement based on user input, ensuring that your documentation is tailored to meet the needs of your target audience.\\n6. Customizable Testing Rules: Langsmith allows you to define custom testing rules based on your specific requirements and development standards. This ensures that your technical documentation is tested according to your specific needs and expectations, resulting in higher quality documentation.\\n7. Collaboration Tools Integration: Langsmith can integrate with popular collaboration tools like Slack or Microsoft Teams to streamline the testing process and ensure that everyone involved in the development cycle is on the same page. This helps to improve communication and reduce errors caused by miscommunication or lack of coordination.\\n8. Knowledge Base Integration: Langsmith can integrate with your knowledge base to provide a centralized location for storing and managing technical documentation. This ensures that your documentation is always up-to-date and accessible, and helps to reduce the likelihood of errors or inconsistencies in your content.\\n\\nIn summary, Langsmith can greatly assist in the testing process by automating testing, analyzing content, integrating with CI/CD tools, analyzing documentation quality, collecting user feedback, and integrating with collaboration and knowledge base tools. By leveraging these features, you can ensure that your technical documentation is accurate, consistent, and up-to-date, which ultimately leads to better user experience and increased customer satisfaction.\""
      ]
     },
     "execution_count": 8,
     "metadata": {},
     "output_type": "execute_result"
    }
   ],
   "source": [
    "chain.invoke({\"input\": \"how can langsmith help with testing?\"})"
   ]
  },
  {
   "cell_type": "code",
   "execution_count": null,
   "id": "1576b40b",
   "metadata": {},
   "outputs": [],
   "source": []
  }
 ],
 "metadata": {
  "kernelspec": {
   "display_name": "Python 3 (ipykernel)",
   "language": "python",
   "name": "python3"
  },
  "language_info": {
   "codemirror_mode": {
    "name": "ipython",
    "version": 3
   },
   "file_extension": ".py",
   "mimetype": "text/x-python",
   "name": "python",
   "nbconvert_exporter": "python",
   "pygments_lexer": "ipython3",
   "version": "3.11.5"
  }
 },
 "nbformat": 4,
 "nbformat_minor": 5
}
